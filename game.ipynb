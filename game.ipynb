{
  "cells": [
    {
      "cell_type": "markdown",
      "source": [
        "# Игра угадай число"
      ],
      "metadata": {
        "id": "2xy3W_P4tTgT"
      }
    },
    {
      "cell_type": "code",
      "source": [
        "import numpy as np\n",
        "\n",
        "first_number = 1  # Начальное число\n",
        "last_number = 101  # Конечное число\n",
        "average_value = int((last_number - first_number) / 2)  # Среднее значение интервала\n",
        "\n",
        "\n",
        "def binary_search(number: int = 1) -> int:\n",
        "    \"\"\"Угадываем число с помощью алгоритма\n",
        "\n",
        "        Args:\n",
        "            number (int, optional): Загаданное число. Defaults to 1.\n",
        "\n",
        "        Returns:\n",
        "            int: Число попыток\n",
        "        \"\"\"\n",
        "    left_board = first_number\n",
        "    right_board = last_number\n",
        "    current_value = average_value\n",
        "    count = 1\n",
        "    while current_value != number:\n",
        "        count += 1\n",
        "        if number > current_value:\n",
        "            left_board = current_value\n",
        "            current_value = int((left_board+right_board) / 2)\n",
        "        else:\n",
        "            right_board = current_value\n",
        "            current_value = int((left_board+right_board) / 2)\n",
        "    return count\n",
        "\n",
        "\n",
        "def score_game() -> int:\n",
        "    \"\"\"За какое количство попыток в среднем за 1000 подходов угадывает алгоритм\n",
        "\n",
        "        Args:\n",
        "            binary_search ([type]): функция угадывания\n",
        "\n",
        "        Returns:\n",
        "            int: среднее количество попыток\n",
        "        \"\"\"\n",
        "    count_ls = []\n",
        "    random_array = np.random.randint(first_number, last_number, 1000)  # загадали список чисел\n",
        "    for number in random_array:\n",
        "        count_ls.append(binary_search(number))\n",
        "    return int(np.mean(count_ls))\n",
        "\n",
        "\n",
        "print(f\"Алгоритм угадывает число в среднем за: {score_game()} попыток\")"
      ],
      "metadata": {
        "colab": {
          "base_uri": "https://localhost:8080/"
        },
        "id": "_HyHR1Fitpvf",
        "outputId": "a474aeed-2207-4074-ffa0-5a844e5e6c51"
      },
      "execution_count": 3,
      "outputs": [
        {
          "output_type": "stream",
          "name": "stdout",
          "text": [
            "Алгоритм угадывает число в среднем за:5 попыток\n"
          ]
        }
      ]
    }
  ],
  "metadata": {
    "orig_nbformat": 4,
    "language_info": {
      "name": "python"
    },
    "colab": {
      "provenance": []
    },
    "kernelspec": {
      "name": "python3",
      "display_name": "Python 3"
    }
  },
  "nbformat": 4,
  "nbformat_minor": 0
}